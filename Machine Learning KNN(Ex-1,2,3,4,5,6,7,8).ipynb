{
 "cells": [
  {
   "cell_type": "code",
   "execution_count": 56,
   "id": "578e40fe",
   "metadata": {},
   "outputs": [],
   "source": [
    "import pandas as pd\n",
    "import numpy as np\n",
    "from sklearn.neighbors import KNeighborsClassifier"
   ]
  },
  {
   "cell_type": "code",
   "execution_count": 57,
   "id": "a1cb31f1",
   "metadata": {},
   "outputs": [],
   "source": [
    "headernames=[\"Age\",\"Year\",\"No.-of-node \",\"Survival-Status\"]"
   ]
  },
  {
   "cell_type": "code",
   "execution_count": 58,
   "id": "b661589f",
   "metadata": {},
   "outputs": [],
   "source": [
    "dataset = pd.read_csv('haberman.data',names=headernames)"
   ]
  },
  {
   "cell_type": "code",
   "execution_count": 59,
   "id": "bb3c67d8",
   "metadata": {},
   "outputs": [
    {
     "data": {
      "text/plain": [
       "(306, 4)"
      ]
     },
     "execution_count": 59,
     "metadata": {},
     "output_type": "execute_result"
    }
   ],
   "source": [
    "dataset.shape"
   ]
  },
  {
   "cell_type": "code",
   "execution_count": 60,
   "id": "90a47422",
   "metadata": {},
   "outputs": [
    {
     "data": {
      "text/html": [
       "<div>\n",
       "<style scoped>\n",
       "    .dataframe tbody tr th:only-of-type {\n",
       "        vertical-align: middle;\n",
       "    }\n",
       "\n",
       "    .dataframe tbody tr th {\n",
       "        vertical-align: top;\n",
       "    }\n",
       "\n",
       "    .dataframe thead th {\n",
       "        text-align: right;\n",
       "    }\n",
       "</style>\n",
       "<table border=\"1\" class=\"dataframe\">\n",
       "  <thead>\n",
       "    <tr style=\"text-align: right;\">\n",
       "      <th></th>\n",
       "      <th>Age</th>\n",
       "      <th>Year</th>\n",
       "      <th>No.-of-node</th>\n",
       "      <th>Survival-Status</th>\n",
       "    </tr>\n",
       "  </thead>\n",
       "  <tbody>\n",
       "    <tr>\n",
       "      <th>0</th>\n",
       "      <td>30</td>\n",
       "      <td>64</td>\n",
       "      <td>1</td>\n",
       "      <td>1</td>\n",
       "    </tr>\n",
       "    <tr>\n",
       "      <th>1</th>\n",
       "      <td>30</td>\n",
       "      <td>62</td>\n",
       "      <td>3</td>\n",
       "      <td>1</td>\n",
       "    </tr>\n",
       "    <tr>\n",
       "      <th>2</th>\n",
       "      <td>30</td>\n",
       "      <td>65</td>\n",
       "      <td>0</td>\n",
       "      <td>1</td>\n",
       "    </tr>\n",
       "    <tr>\n",
       "      <th>3</th>\n",
       "      <td>31</td>\n",
       "      <td>59</td>\n",
       "      <td>2</td>\n",
       "      <td>1</td>\n",
       "    </tr>\n",
       "    <tr>\n",
       "      <th>4</th>\n",
       "      <td>31</td>\n",
       "      <td>65</td>\n",
       "      <td>4</td>\n",
       "      <td>1</td>\n",
       "    </tr>\n",
       "  </tbody>\n",
       "</table>\n",
       "</div>"
      ],
      "text/plain": [
       "   Age  Year  No.-of-node   Survival-Status\n",
       "0   30    64             1                1\n",
       "1   30    62             3                1\n",
       "2   30    65             0                1\n",
       "3   31    59             2                1\n",
       "4   31    65             4                1"
      ]
     },
     "execution_count": 60,
     "metadata": {},
     "output_type": "execute_result"
    }
   ],
   "source": [
    "dataset.head()"
   ]
  },
  {
   "cell_type": "code",
   "execution_count": 61,
   "id": "ff89c370",
   "metadata": {},
   "outputs": [],
   "source": [
    "array=dataset.values\n",
    "x=array[:,:-1]\n",
    "y=array[:,3]\n"
   ]
  },
  {
   "cell_type": "code",
   "execution_count": 62,
   "id": "a10c394e",
   "metadata": {},
   "outputs": [
    {
     "name": "stdout",
     "output_type": "stream",
     "text": [
      "\n",
      "The model selected is KNeighborsClassifier()\n",
      "\n",
      "The parameters of the model are \n",
      "\n",
      " {'algorithm': 'auto', 'leaf_size': 30, 'metric': 'minkowski', 'metric_params': None, 'n_jobs': None, 'n_neighbors': 5, 'p': 2, 'weights': 'uniform'}\n"
     ]
    }
   ],
   "source": [
    "thismodel=KNeighborsClassifier()\n",
    "print(\"\\nThe model selected is\",thismodel)\n",
    "print(\"\\nThe parameters of the model are \\n\\n\",thismodel.get_params())\n"
   ]
  },
  {
   "cell_type": "code",
   "execution_count": 77,
   "id": "51c12762",
   "metadata": {},
   "outputs": [
    {
     "data": {
      "text/plain": [
       "KNeighborsClassifier()"
      ]
     },
     "execution_count": 77,
     "metadata": {},
     "output_type": "execute_result"
    }
   ],
   "source": [
    "thismodel.fit(x,y)"
   ]
  },
  {
   "cell_type": "code",
   "execution_count": 84,
   "id": "f3c43510",
   "metadata": {},
   "outputs": [],
   "source": [
    "from sklearn.model_selection import train_test_split\n",
    "x_train,x_test,y_train,y_test=train_test_split(x,y,test_size=0.20)"
   ]
  },
  {
   "cell_type": "code",
   "execution_count": 85,
   "id": "b3be67cd",
   "metadata": {},
   "outputs": [
    {
     "name": "stdout",
     "output_type": "stream",
     "text": [
      "[[49 62  1]\n",
      " [64 65 22]\n",
      " [55 68 15]\n",
      " [56 66  2]\n",
      " [59 64  0]\n",
      " [47 58  3]\n",
      " [68 67  0]\n",
      " [61 62  5]\n",
      " [49 63  0]\n",
      " [47 67  0]\n",
      " [60 65  0]\n",
      " [72 67  3]\n",
      " [43 58 52]\n",
      " [60 61  1]\n",
      " [54 60 11]\n",
      " [53 61  1]\n",
      " [41 65  0]\n",
      " [48 67  7]\n",
      " [52 66  4]\n",
      " [57 64  9]\n",
      " [50 61  0]\n",
      " [43 64  0]\n",
      " [57 61  0]\n",
      " [34 59  0]\n",
      " [64 66  0]\n",
      " [54 69  7]\n",
      " [57 64  0]\n",
      " [52 69  0]\n",
      " [45 67  1]\n",
      " [59 67  3]\n",
      " [62 62  6]\n",
      " [50 61  0]\n",
      " [65 62 22]\n",
      " [42 63  1]\n",
      " [55 66 18]\n",
      " [33 60  0]\n",
      " [67 61  0]\n",
      " [39 63  4]\n",
      " [47 66 12]\n",
      " [57 62 14]\n",
      " [66 61 13]\n",
      " [65 64  0]\n",
      " [66 58  0]\n",
      " [54 62  0]\n",
      " [72 64  0]\n",
      " [41 64  0]\n",
      " [77 65  3]\n",
      " [58 61  1]\n",
      " [76 67  0]\n",
      " [60 59 17]\n",
      " [69 65  0]\n",
      " [45 64  0]\n",
      " [66 58  0]\n",
      " [58 61  2]\n",
      " [53 58  4]\n",
      " [70 58  0]\n",
      " [71 68  2]\n",
      " [50 59  2]\n",
      " [42 59  2]\n",
      " [34 67  7]\n",
      " [63 60  1]\n",
      " [38 60  0]]\n",
      "[1 2 2 1 1 1 1 1 1 1 1 1 2 1 2 1 1 1 1 1 1 1 1 1 1 2 1 1 1 1 1 1 1 1 1 1 1\n",
      " 1 2 2 2 1 1 1 1 1 1 1 1 2 1 1 1 1 2 1 1 1 1 1 1 1]\n"
     ]
    }
   ],
   "source": [
    "y_pred=thismodel.predict(x_test)\n",
    "print(x_test)\n",
    "print(y_pred)"
   ]
  },
  {
   "cell_type": "code",
   "execution_count": 86,
   "id": "4e6c384c",
   "metadata": {},
   "outputs": [
    {
     "name": "stdout",
     "output_type": "stream",
     "text": [
      "              precision    recall  f1-score   support\n",
      "\n",
      "           1       0.77      0.93      0.84        43\n",
      "           2       0.70      0.37      0.48        19\n",
      "\n",
      "    accuracy                           0.76        62\n",
      "   macro avg       0.73      0.65      0.66        62\n",
      "weighted avg       0.75      0.76      0.73        62\n",
      "\n"
     ]
    }
   ],
   "source": [
    "from sklearn.metrics import classification_report\n",
    "print(classification_report(y_test,y_pred))"
   ]
  },
  {
   "cell_type": "code",
   "execution_count": null,
   "id": "ee5e1d29",
   "metadata": {},
   "outputs": [],
   "source": []
  }
 ],
 "metadata": {
  "kernelspec": {
   "display_name": "Python 3",
   "language": "python",
   "name": "python3"
  },
  "language_info": {
   "codemirror_mode": {
    "name": "ipython",
    "version": 3
   },
   "file_extension": ".py",
   "mimetype": "text/x-python",
   "name": "python",
   "nbconvert_exporter": "python",
   "pygments_lexer": "ipython3",
   "version": "3.8.8"
  }
 },
 "nbformat": 4,
 "nbformat_minor": 5
}
