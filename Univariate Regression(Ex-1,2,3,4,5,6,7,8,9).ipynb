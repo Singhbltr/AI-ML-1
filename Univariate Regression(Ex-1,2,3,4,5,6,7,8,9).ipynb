{
 "cells": [
  {
   "cell_type": "code",
   "execution_count": 546,
   "id": "ed5155e2",
   "metadata": {},
   "outputs": [],
   "source": [
    "import pandas as pd\n",
    "import numpy as np\n",
    "from sklearn.model_selection import train_test_split\n",
    "from sklearn.linear_model import LinearRegression\n",
    "from sklearn.preprocessing import StandardScaler"
   ]
  },
  {
   "cell_type": "code",
   "execution_count": 547,
   "id": "4ecddbe1",
   "metadata": {},
   "outputs": [],
   "source": [
    "headername=['Mpg','Cylinders','Displacement','Horsepower','Weight','Acceleration','Model','Origin','Car']"
   ]
  },
  {
   "cell_type": "code",
   "execution_count": 548,
   "id": "0981bac2",
   "metadata": {},
   "outputs": [],
   "source": [
    "data = pd.read_csv('auto-mpg.data',names=headername,delimiter=\"\\s+\")"
   ]
  },
  {
   "cell_type": "code",
   "execution_count": 549,
   "id": "1c657dd8",
   "metadata": {
    "scrolled": false
   },
   "outputs": [
    {
     "data": {
      "text/html": [
       "<div>\n",
       "<style scoped>\n",
       "    .dataframe tbody tr th:only-of-type {\n",
       "        vertical-align: middle;\n",
       "    }\n",
       "\n",
       "    .dataframe tbody tr th {\n",
       "        vertical-align: top;\n",
       "    }\n",
       "\n",
       "    .dataframe thead th {\n",
       "        text-align: right;\n",
       "    }\n",
       "</style>\n",
       "<table border=\"1\" class=\"dataframe\">\n",
       "  <thead>\n",
       "    <tr style=\"text-align: right;\">\n",
       "      <th></th>\n",
       "      <th>Mpg</th>\n",
       "      <th>Cylinders</th>\n",
       "      <th>Displacement</th>\n",
       "      <th>Horsepower</th>\n",
       "      <th>Weight</th>\n",
       "      <th>Acceleration</th>\n",
       "      <th>Model</th>\n",
       "      <th>Origin</th>\n",
       "      <th>Car</th>\n",
       "    </tr>\n",
       "  </thead>\n",
       "  <tbody>\n",
       "    <tr>\n",
       "      <th>0</th>\n",
       "      <td>18.0</td>\n",
       "      <td>8</td>\n",
       "      <td>307.0</td>\n",
       "      <td>130.0</td>\n",
       "      <td>3504.0</td>\n",
       "      <td>12.0</td>\n",
       "      <td>70</td>\n",
       "      <td>1</td>\n",
       "      <td>chevrolet chevelle malibu</td>\n",
       "    </tr>\n",
       "    <tr>\n",
       "      <th>1</th>\n",
       "      <td>15.0</td>\n",
       "      <td>8</td>\n",
       "      <td>350.0</td>\n",
       "      <td>165.0</td>\n",
       "      <td>3693.0</td>\n",
       "      <td>11.5</td>\n",
       "      <td>70</td>\n",
       "      <td>1</td>\n",
       "      <td>buick skylark 320</td>\n",
       "    </tr>\n",
       "    <tr>\n",
       "      <th>2</th>\n",
       "      <td>18.0</td>\n",
       "      <td>8</td>\n",
       "      <td>318.0</td>\n",
       "      <td>150.0</td>\n",
       "      <td>3436.0</td>\n",
       "      <td>11.0</td>\n",
       "      <td>70</td>\n",
       "      <td>1</td>\n",
       "      <td>plymouth satellite</td>\n",
       "    </tr>\n",
       "    <tr>\n",
       "      <th>3</th>\n",
       "      <td>16.0</td>\n",
       "      <td>8</td>\n",
       "      <td>304.0</td>\n",
       "      <td>150.0</td>\n",
       "      <td>3433.0</td>\n",
       "      <td>12.0</td>\n",
       "      <td>70</td>\n",
       "      <td>1</td>\n",
       "      <td>amc rebel sst</td>\n",
       "    </tr>\n",
       "    <tr>\n",
       "      <th>4</th>\n",
       "      <td>17.0</td>\n",
       "      <td>8</td>\n",
       "      <td>302.0</td>\n",
       "      <td>140.0</td>\n",
       "      <td>3449.0</td>\n",
       "      <td>10.5</td>\n",
       "      <td>70</td>\n",
       "      <td>1</td>\n",
       "      <td>ford torino</td>\n",
       "    </tr>\n",
       "  </tbody>\n",
       "</table>\n",
       "</div>"
      ],
      "text/plain": [
       "    Mpg  Cylinders  Displacement Horsepower  Weight  Acceleration  Model  \\\n",
       "0  18.0          8         307.0      130.0  3504.0          12.0     70   \n",
       "1  15.0          8         350.0      165.0  3693.0          11.5     70   \n",
       "2  18.0          8         318.0      150.0  3436.0          11.0     70   \n",
       "3  16.0          8         304.0      150.0  3433.0          12.0     70   \n",
       "4  17.0          8         302.0      140.0  3449.0          10.5     70   \n",
       "\n",
       "   Origin                        Car  \n",
       "0       1  chevrolet chevelle malibu  \n",
       "1       1          buick skylark 320  \n",
       "2       1         plymouth satellite  \n",
       "3       1              amc rebel sst  \n",
       "4       1                ford torino  "
      ]
     },
     "execution_count": 549,
     "metadata": {},
     "output_type": "execute_result"
    }
   ],
   "source": [
    "data.head()"
   ]
  },
  {
   "cell_type": "code",
   "execution_count": 550,
   "id": "99e1a0dc",
   "metadata": {},
   "outputs": [
    {
     "name": "stdout",
     "output_type": "stream",
     "text": [
      "<class 'pandas.core.frame.DataFrame'>\n",
      "RangeIndex: 398 entries, 0 to 397\n",
      "Data columns (total 9 columns):\n",
      " #   Column        Non-Null Count  Dtype  \n",
      "---  ------        --------------  -----  \n",
      " 0   Mpg           398 non-null    float64\n",
      " 1   Cylinders     398 non-null    int64  \n",
      " 2   Displacement  398 non-null    float64\n",
      " 3   Horsepower    398 non-null    object \n",
      " 4   Weight        398 non-null    float64\n",
      " 5   Acceleration  398 non-null    float64\n",
      " 6   Model         398 non-null    int64  \n",
      " 7   Origin        398 non-null    int64  \n",
      " 8   Car           398 non-null    object \n",
      "dtypes: float64(4), int64(3), object(2)\n",
      "memory usage: 28.1+ KB\n"
     ]
    }
   ],
   "source": [
    "data.info()"
   ]
  },
  {
   "cell_type": "code",
   "execution_count": 551,
   "id": "52cb5e3c",
   "metadata": {},
   "outputs": [
    {
     "data": {
      "text/plain": [
       "array(['130.0', '165.0', '150.0', '140.0', '198.0', '220.0', '215.0',\n",
       "       '225.0', '190.0', '170.0', '160.0', '95.00', '97.00', '85.00',\n",
       "       '88.00', '46.00', '87.00', '90.00', '113.0', '200.0', '210.0',\n",
       "       '193.0', '?', '100.0', '105.0', '175.0', '153.0', '180.0', '110.0',\n",
       "       '72.00', '86.00', '70.00', '76.00', '65.00', '69.00', '60.00',\n",
       "       '80.00', '54.00', '208.0', '155.0', '112.0', '92.00', '145.0',\n",
       "       '137.0', '158.0', '167.0', '94.00', '107.0', '230.0', '49.00',\n",
       "       '75.00', '91.00', '122.0', '67.00', '83.00', '78.00', '52.00',\n",
       "       '61.00', '93.00', '148.0', '129.0', '96.00', '71.00', '98.00',\n",
       "       '115.0', '53.00', '81.00', '79.00', '120.0', '152.0', '102.0',\n",
       "       '108.0', '68.00', '58.00', '149.0', '89.00', '63.00', '48.00',\n",
       "       '66.00', '139.0', '103.0', '125.0', '133.0', '138.0', '135.0',\n",
       "       '142.0', '77.00', '62.00', '132.0', '84.00', '64.00', '74.00',\n",
       "       '116.0', '82.00'], dtype=object)"
      ]
     },
     "execution_count": 551,
     "metadata": {},
     "output_type": "execute_result"
    }
   ],
   "source": [
    "data.Horsepower.unique()"
   ]
  },
  {
   "cell_type": "code",
   "execution_count": 552,
   "id": "8945946d",
   "metadata": {},
   "outputs": [
    {
     "name": "stdout",
     "output_type": "stream",
     "text": [
      "<class 'pandas.core.frame.DataFrame'>\n",
      "RangeIndex: 398 entries, 0 to 397\n",
      "Data columns (total 9 columns):\n",
      " #   Column        Non-Null Count  Dtype  \n",
      "---  ------        --------------  -----  \n",
      " 0   Mpg           398 non-null    float64\n",
      " 1   Cylinders     398 non-null    int64  \n",
      " 2   Displacement  398 non-null    float64\n",
      " 3   Horsepower    398 non-null    int32  \n",
      " 4   Weight        398 non-null    float64\n",
      " 5   Acceleration  398 non-null    float64\n",
      " 6   Model         398 non-null    int64  \n",
      " 7   Origin        398 non-null    int64  \n",
      " 8   Car           398 non-null    object \n",
      "dtypes: float64(4), int32(1), int64(3), object(1)\n",
      "memory usage: 26.6+ KB\n"
     ]
    }
   ],
   "source": [
    "\n",
    "data.Horsepower= data.Horsepower.str.replace('?', 'NaN',regex=True).astype(float)\n",
    "data.Horsepower.fillna(data.Horsepower.mean(),inplace=True)\n",
    "data.Horsepower = data.Horsepower.astype(int)\n",
    "data.info()"
   ]
  },
  {
   "cell_type": "code",
   "execution_count": 553,
   "id": "997d36de",
   "metadata": {},
   "outputs": [],
   "source": [
    "model=pd.DataFrame(data, columns = ['Mpg', 'Acceleration'])"
   ]
  },
  {
   "cell_type": "code",
   "execution_count": 554,
   "id": "e9a48539",
   "metadata": {},
   "outputs": [],
   "source": [
    "#x_scaled = preprocessing.scale(x)\n",
    "#x_scaled = pd.DataFrame(x_scaled,columns=x.columns)\n"
   ]
  },
  {
   "cell_type": "code",
   "execution_count": 555,
   "id": "fff47f17",
   "metadata": {},
   "outputs": [],
   "source": [
    "X_train = model.Acceleration[:-20]"
   ]
  },
  {
   "cell_type": "code",
   "execution_count": 556,
   "id": "59cffe30",
   "metadata": {},
   "outputs": [],
   "source": [
    "X_test = model.Acceleration[-20:]"
   ]
  },
  {
   "cell_type": "code",
   "execution_count": 557,
   "id": "170a851e",
   "metadata": {},
   "outputs": [],
   "source": [
    "y_train = model.Mpg[:-20]"
   ]
  },
  {
   "cell_type": "code",
   "execution_count": 558,
   "id": "46998d19",
   "metadata": {},
   "outputs": [],
   "source": [
    "y_test = model.Mpg[-20:]"
   ]
  },
  {
   "cell_type": "code",
   "execution_count": 559,
   "id": "548c966e",
   "metadata": {},
   "outputs": [],
   "source": [
    "regressor=LinearRegression()"
   ]
  },
  {
   "cell_type": "code",
   "execution_count": 560,
   "id": "6f98d749",
   "metadata": {},
   "outputs": [
    {
     "name": "stdout",
     "output_type": "stream",
     "text": [
      "(378,) (378,)\n"
     ]
    }
   ],
   "source": [
    "print(X_train.shape,y_train.shape)"
   ]
  },
  {
   "cell_type": "code",
   "execution_count": 561,
   "id": "d073b82a",
   "metadata": {},
   "outputs": [],
   "source": [
    "X_train = X_train.values.reshape(len(X_train),1)\n",
    "y_train = y_train.values.reshape(len(y_train),1)\n",
    "X_test = X_test.values.reshape(len(X_test),1)\n",
    "y_test = y_test.values.reshape(len(y_test),1)"
   ]
  },
  {
   "cell_type": "code",
   "execution_count": 562,
   "id": "ee740815",
   "metadata": {},
   "outputs": [],
   "source": [
    "regressor.fit(X_train,y_train)\n",
    "y_pred=regressor.predict(X_test)"
   ]
  },
  {
   "cell_type": "code",
   "execution_count": 543,
   "id": "70eeded8",
   "metadata": {},
   "outputs": [
    {
     "name": "stdout",
     "output_type": "stream",
     "text": [
      "Prediction--: [25.79919523 12.59683049 22.97978256 21.89447455 13.16499405 32.45297988\n",
      " 13.51029773  8.88893463 10.2867906  18.98516083 28.44784126 27.78679322\n",
      " 20.81456725 22.84789617 11.63822865 27.0705501  34.78786215 29.96922028\n",
      " 23.71430491 22.11075901 22.03908139 21.24226787 28.95206267 31.86551615\n",
      "  6.04897662  8.24852913 31.44289436 15.60251063  9.67152391 26.39395436\n",
      " 14.10768994 25.21177426 31.31702707 16.50261935 21.04779756 32.06967651\n",
      " 22.36173646 25.34410517 18.73336993 30.77344618 22.5186758  21.08600366\n",
      " 17.6915707  30.50674759  5.11352811 24.81195286 15.24147174 10.54480997\n",
      " 34.50417761 28.6350259  20.08150361  7.02586287 20.30303656 29.6605917\n",
      " 30.11656388 25.19681532 26.55733378 33.3577275   8.27887812 25.56556312\n",
      " 32.36957876 33.8358019  32.74486047 29.50552077 15.21144571 22.96080017\n",
      " 24.94942254 24.15274954 33.2054807  28.42283798 20.16237864 22.50420205\n",
      " 10.1546035  17.23098515 12.48086623 13.91357727 30.7978952  20.96483144\n",
      " 20.75332592 11.44560216 25.66449839 11.83479848 27.00789934 25.5540729\n",
      " 17.92197331 23.50035063 22.67344394 29.26287287 14.76568454 18.93121095\n",
      " 30.81759606 21.48422546 30.7885888  29.15659118 29.05175052 13.27880583\n",
      " 11.35212317 26.48171037 16.18395759 28.16230813 29.01747029 29.18719847\n",
      " 25.33453155 24.87909835 24.74523966 26.87878573  7.19993631 16.72223197\n",
      " 24.48143366 31.90020863 24.24451317 23.87894001 29.1568391  21.62278734\n",
      " 17.13955573 23.25141893 25.52847972 27.16928619 22.13423792  9.46001697\n",
      " 36.4256757  32.28127142 35.33624107 23.1473587  21.81122846 28.9537189\n",
      " 17.41192405  8.84416263 24.38963811 10.99366724 26.00377111 29.84210273]\n",
      "Coeff--: [[1.19037533]]\n",
      "Intercept--: [4.52302129]\n",
      "R-Square Score--: 0.18632860927297146\n"
     ]
    }
   ],
   "source": [
    "print(\"Prediction--:\",y_pred)\n",
    "print(\"Coeff--:\",regressor.coef_)\n",
    "print(\"Intercept--:\",regressor.intercept_)\n",
    "#print(\"Residues--:\",regressor.residues_)\n",
    "print(\"R-Square Score--:\",regressor.score(X_train,y_train))"
   ]
  },
  {
   "cell_type": "code",
   "execution_count": 563,
   "id": "36bf6f35",
   "metadata": {},
   "outputs": [
    {
     "data": {
      "text/plain": [
       "<matplotlib.collections.PathCollection at 0x1c0017a1580>"
      ]
     },
     "execution_count": 563,
     "metadata": {},
     "output_type": "execute_result"
    },
    {
     "data": {
      "image/png": "[encoded data removed]",
      "text/plain": [
       "<Figure size 432x288 with 1 Axes>"
      ]
     },
     "metadata": {
      "needs_background": "light"
     },
     "output_type": "display_data"
    }
   ],
   "source": [
    "# Plot outputs\n",
    "plt.scatter(X_test,y_test,color='black')"
   ]
  },
  {
   "cell_type": "code",
   "execution_count": 564,
   "id": "92b31d21",
   "metadata": {},
   "outputs": [
    {
     "data": {
      "text/plain": [
       "[<matplotlib.lines.Line2D at 0x1c0018a3460>]"
      ]
     },
     "execution_count": 564,
     "metadata": {},
     "output_type": "execute_result"
    },
    {
     "data": {
      "image/png": "[encoded data removed]",
      "text/plain": [
       "<Figure size 432x288 with 1 Axes>"
      ]
     },
     "metadata": {
      "needs_background": "light"
     },
     "output_type": "display_data"
    }
   ],
   "source": [
    "plt.plot(X_test,y_pred, color='blue',linewidth=3)"
   ]
  },
  {
   "cell_type": "code",
   "execution_count": 565,
   "id": "57a8e97c",
   "metadata": {},
   "outputs": [
    {
     "data": {
      "text/plain": [
       "<matplotlib.collections.PathCollection at 0x1c0015cc1c0>"
      ]
     },
     "execution_count": 565,
     "metadata": {},
     "output_type": "execute_result"
    },
    {
     "data": {
      "image/png": "[encoded data removed]",
      "text/plain": [
       "<Figure size 432x288 with 1 Axes>"
      ]
     },
     "metadata": {
      "needs_background": "light"
     },
     "output_type": "display_data"
    }
   ],
   "source": [
    "# Plot outputs\n",
    "\n",
    "plt.plot(X_test,y_pred, color='blue',linewidth=3)\n",
    "plt.scatter(X_test,y_test,  color='black')"
   ]
  },
  {
   "cell_type": "code",
   "execution_count": null,
   "id": "bcd3f990",
   "metadata": {},
   "outputs": [],
   "source": []
  },
  {
   "cell_type": "code",
   "execution_count": null,
   "id": "22864483",
   "metadata": {},
   "outputs": [],
   "source": []
  },
  {
   "cell_type": "code",
   "execution_count": null,
   "id": "8477b156",
   "metadata": {},
   "outputs": [],
   "source": []
  },
  {
   "cell_type": "code",
   "execution_count": null,
   "id": "2b72b3c3",
   "metadata": {},
   "outputs": [],
   "source": []
  }
 ],
 "metadata": {
  "kernelspec": {
   "display_name": "Python 3",
   "language": "python",
   "name": "python3"
  },
  "language_info": {
   "codemirror_mode": {
    "name": "ipython",
    "version": 3
   },
   "file_extension": ".py",
   "mimetype": "text/x-python",
   "name": "python",
   "nbconvert_exporter": "python",
   "pygments_lexer": "ipython3",
   "version": "3.8.8"
  }
 },
 "nbformat": 4,
 "nbformat_minor": 5
}
